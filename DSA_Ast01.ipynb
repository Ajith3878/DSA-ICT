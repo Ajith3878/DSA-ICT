{
  "nbformat": 4,
  "nbformat_minor": 0,
  "metadata": {
    "colab": {
      "provenance": []
    },
    "kernelspec": {
      "name": "python3",
      "display_name": "Python 3"
    },
    "language_info": {
      "name": "python"
    }
  },
  "cells": [
    {
      "cell_type": "markdown",
      "source": [
        "1. Write a Python program which accepts the radius of a circle from the user\n",
        "and compute the area.\n",
        "Sample input: Enter the radius: 3\n",
        "Sample output: Area of Circle is 28.59999999999"
      ],
      "metadata": {
        "id": "8qjPq2riAeQT"
      }
    },
    {
      "cell_type": "code",
      "source": [
        "import math\n",
        "\n",
        "rad=int(input(\"Enter the Radius : \"))\n",
        "area=math.pi*(rad**2)\n",
        "print(\"Area of Circle is :\",area)"
      ],
      "metadata": {
        "colab": {
          "base_uri": "https://localhost:8080/"
        },
        "id": "MNFfSGrrAuJW",
        "outputId": "4165a53e-9a54-49c1-e77c-748eea72fb6a"
      },
      "execution_count": null,
      "outputs": [
        {
          "output_type": "stream",
          "name": "stdout",
          "text": [
            "Enter the Radius : 3\n",
            "Area of Circle is : 28.274333882308138\n"
          ]
        }
      ]
    },
    {
      "cell_type": "markdown",
      "source": [
        "2. Write a Python Program to accept the details of a student like name, roll\n",
        "number and mark and display it.\n",
        "Sample input: Enter the name: Anisha\n",
        "Enter the roll number: 21\n",
        "Enter the mark: 78\n",
        "Sample output: Name: Anisha\n",
        "Roll No: 21\n",
        "Mark: 78"
      ],
      "metadata": {
        "id": "TRjgiNXhCCN0"
      }
    },
    {
      "cell_type": "code",
      "source": [
        "name=input(\"Enter tha name : \")\n",
        "rollno=int(input(\"Enter the roll no : \"))\n",
        "mark=int(input(\"Enter the mark :\"))\n",
        "print('Name : ',name)\n",
        "print('Roll No:',rollno)\n",
        "print('Mark :',mark)"
      ],
      "metadata": {
        "colab": {
          "base_uri": "https://localhost:8080/"
        },
        "id": "XJOQ54C0CGb9",
        "outputId": "73f16b96-832e-430e-bd9f-b1a38fc9aced"
      },
      "execution_count": null,
      "outputs": [
        {
          "output_type": "stream",
          "name": "stdout",
          "text": [
            "Enter tha name : Anisha\n",
            "Enter the roll no : 21\n",
            "Enter the mark :78\n",
            "Name :  Anisha\n",
            "Roll No: 21\n",
            "Mark : 78\n"
          ]
        }
      ]
    },
    {
      "cell_type": "markdown",
      "source": [
        "3. Write a Python program to get the largest number from a list.\n",
        "Sample input: 12, 3, 47, 10\n",
        "Sample output: 47 is the largest number."
      ],
      "metadata": {
        "id": "2rhH-TiBGynT"
      }
    },
    {
      "cell_type": "code",
      "source": [
        "num=int(input('Enter Number of elements : '))\n",
        "l1=[]\n",
        "for i in range(num):\n",
        "  n=int(input())\n",
        "  l1.append(n)\n",
        "print(l1)\n",
        "print(\"Largest Element is :\",max(l1))\n",
        "\n",
        "\n"
      ],
      "metadata": {
        "id": "H1rqIySIGzf7",
        "colab": {
          "base_uri": "https://localhost:8080/"
        },
        "outputId": "7a9d15cb-6609-4b7e-ac15-617dd1f68cfd"
      },
      "execution_count": null,
      "outputs": [
        {
          "output_type": "stream",
          "name": "stdout",
          "text": [
            "Enter Number of elements : 4\n",
            "12\n",
            "3\n",
            "147\n",
            "10\n",
            "[12, 3, 147, 10]\n",
            "Largest Element is : 147\n"
          ]
        }
      ]
    },
    {
      "cell_type": "markdown",
      "source": [
        "4. Given a range of first 10 numbers, write a Python program to iterate from\n",
        "start number to the end number and print the sum of the current number\n",
        "and previous number.\n",
        "Sample input: 1….10\n",
        "Sample output: Current Number 1 Previous Number 0 Sum: 1 Current\n",
        "Number 2 Previous Number 1 Sum: 3 Current Number 3 Previous\n",
        "Number 2 Sum: 5… Current Number 10 Previous Number 9 Sum: 19"
      ],
      "metadata": {
        "id": "ydwwPERVV87I"
      }
    },
    {
      "cell_type": "code",
      "source": [
        "\n",
        "for i in range(0,10):\n",
        "  print('Current number ',i+1, 'Previous Number',i,'sum',i+i+1)\n"
      ],
      "metadata": {
        "colab": {
          "base_uri": "https://localhost:8080/"
        },
        "id": "0eiD9Ob2Vf17",
        "outputId": "b6db5e8d-20fe-4df0-cb6e-d45baca25bb1"
      },
      "execution_count": null,
      "outputs": [
        {
          "output_type": "stream",
          "name": "stdout",
          "text": [
            "Current number  1 Previous Number 0 sum 1\n",
            "Current number  2 Previous Number 1 sum 3\n",
            "Current number  3 Previous Number 2 sum 5\n",
            "Current number  4 Previous Number 3 sum 7\n",
            "Current number  5 Previous Number 4 sum 9\n",
            "Current number  6 Previous Number 5 sum 11\n",
            "Current number  7 Previous Number 6 sum 13\n",
            "Current number  8 Previous Number 7 sum 15\n",
            "Current number  9 Previous Number 8 sum 17\n",
            "Current number  10 Previous Number 9 sum 19\n"
          ]
        }
      ]
    },
    {
      "cell_type": "markdown",
      "source": [
        "5. Write a Python program to print only those numbers which are divisible\n",
        "of 5.\n",
        "Sample input: 10, 20,33,46,55 Sample output: 10, 20, 55"
      ],
      "metadata": {
        "id": "sHfqPtInFHPa"
      }
    },
    {
      "cell_type": "code",
      "source": [
        "no_list=[]\n",
        "num=int(input('Enter the numbers :'))\n",
        "for i in range(num):\n",
        "  n=int(input())\n",
        "  no_list.append(n)\n",
        "print(no_list)\n",
        "for j in no_list:\n",
        "  if j%5==0:\n",
        "    print(j)"
      ],
      "metadata": {
        "colab": {
          "base_uri": "https://localhost:8080/"
        },
        "id": "LtwGX98uFIbj",
        "outputId": "fff69f88-b98d-4714-8023-8e6a0ae63890"
      },
      "execution_count": null,
      "outputs": [
        {
          "output_type": "stream",
          "name": "stdout",
          "text": [
            "Enter the numbers :3\n",
            "45\n",
            "63\n",
            "55\n",
            "[45, 63, 55]\n",
            "45\n",
            "55\n"
          ]
        }
      ]
    },
    {
      "cell_type": "markdown",
      "source": [
        "6. Write a Python program to check whether a number is prime or not.\n",
        "Sample input: Enter the number: 3\n",
        "Sample output: 3 is a prime number."
      ],
      "metadata": {
        "id": "G80NLJvfG90C"
      }
    },
    {
      "cell_type": "code",
      "source": [
        "num=int(input(\"Enter a number : \"))\n",
        "for i in range(2,num//2+1):\n",
        "  if num%i==0:\n",
        "    print('Not Prime')\n",
        "    break\n",
        "else:\n",
        "  print('Prime')"
      ],
      "metadata": {
        "colab": {
          "base_uri": "https://localhost:8080/"
        },
        "id": "Gc0BBqYnG-2Y",
        "outputId": "c1bbcd46-316e-4f7e-d765-f5ae7c5d71e3"
      },
      "execution_count": null,
      "outputs": [
        {
          "output_type": "stream",
          "name": "stdout",
          "text": [
            "Enter a number : 5\n",
            "Prime\n"
          ]
        }
      ]
    },
    {
      "cell_type": "markdown",
      "source": [
        "7. Write a Python program to reverse a list using for loop.\n",
        "Sample input: 10,40,30,70\n",
        "Sample output: 70,30,40,10"
      ],
      "metadata": {
        "id": "5W2sVHZ_JdC1"
      }
    },
    {
      "cell_type": "code",
      "source": [
        "mylist=[10,40,30,70]\n",
        "rev_list=[]\n",
        "for i in range(len(mylist)):\n",
        "  rev=mylist[len(mylist)-i-1]\n",
        "  rev_list.append(rev)\n",
        "print(\"Actual List : \",mylist)\n",
        "print(\"Reversed List:\",rev_list)\n"
      ],
      "metadata": {
        "colab": {
          "base_uri": "https://localhost:8080/"
        },
        "id": "q_OnIkX5smcL",
        "outputId": "a3d0977e-4124-4a5a-c5a3-a0345fb1c2b1"
      },
      "execution_count": null,
      "outputs": [
        {
          "output_type": "stream",
          "name": "stdout",
          "text": [
            "Actual List :  [10, 40, 30, 70]\n",
            "Reversed List: [70, 30, 40, 10]\n"
          ]
        }
      ]
    },
    {
      "cell_type": "code",
      "source": [
        "8. Write a Python program to print the following pattern.\n",
        "*\n",
        "**\n",
        "***\n",
        "****"
      ],
      "metadata": {
        "id": "FExfJVUitp6F"
      },
      "execution_count": null,
      "outputs": []
    },
    {
      "cell_type": "code",
      "source": [
        "for i in range(4):\n",
        "   for j in range(i+1):\n",
        "     print('*',end=\"\")\n",
        "   print()\n"
      ],
      "metadata": {
        "colab": {
          "base_uri": "https://localhost:8080/"
        },
        "id": "bzZwJjWIt428",
        "outputId": "9fe6e74e-5fed-4053-d44a-a4aa95727403"
      },
      "execution_count": null,
      "outputs": [
        {
          "output_type": "stream",
          "name": "stdout",
          "text": [
            "*\n",
            "**\n",
            "***\n",
            "****\n"
          ]
        }
      ]
    },
    {
      "cell_type": "markdown",
      "source": [
        "9. Write a Python program to find the maximum of three numbers\n",
        "Sample input: 34,12,7\n",
        "Sample output: 34"
      ],
      "metadata": {
        "id": "6EQIRwpUAFXE"
      }
    },
    {
      "cell_type": "code",
      "source": [
        "num1=int(input('Enter First Number :'))\n",
        "num2=int(input('Enter Second Number :'))\n",
        "num3=int(input('Enter Third Number :'))\n",
        "if num1>num2 and num1>num3:\n",
        "  print(\"Largest number is \",num1)\n",
        "elif num2>num1 and num2>num3:\n",
        "  print('Largest Number is ',num2)\n",
        "else:\n",
        "  print('Largest Number is ',num3)"
      ],
      "metadata": {
        "colab": {
          "base_uri": "https://localhost:8080/"
        },
        "id": "V8ZkIpBaAGRt",
        "outputId": "f69f0e02-48d9-48c0-f145-2bb9d874b394"
      },
      "execution_count": null,
      "outputs": [
        {
          "output_type": "stream",
          "name": "stdout",
          "text": [
            "Enter First Number :56\n",
            "Enter Second Number :36\n",
            "Enter Third Number :14\n",
            "Largest number is  56\n"
          ]
        }
      ]
    },
    {
      "cell_type": "code",
      "source": [
        "10. Write a Python program to construct the following pattern, using a\n",
        "nested for loop.\n",
        "*\n",
        "**\n",
        "***\n",
        "****\n",
        "*****\n",
        "****\n",
        "***\n",
        "**\n",
        "*"
      ],
      "metadata": {
        "id": "-rAy5L4jBmrX"
      },
      "execution_count": null,
      "outputs": []
    },
    {
      "cell_type": "code",
      "source": [
        "for i in range(5):\n",
        "  for j in range(i+1):\n",
        "    print('*',end='')\n",
        "  print()\n",
        "for k in range(4):\n",
        "  for l in range(4-k):\n",
        "    print('*',end='')\n",
        "  print()"
      ],
      "metadata": {
        "colab": {
          "base_uri": "https://localhost:8080/"
        },
        "id": "SCxp8sFkBn2e",
        "outputId": "1128b631-e24e-456f-8be1-c12be60a3dc3"
      },
      "execution_count": null,
      "outputs": [
        {
          "output_type": "stream",
          "name": "stdout",
          "text": [
            "*\n",
            "**\n",
            "***\n",
            "****\n",
            "*****\n",
            "****\n",
            "***\n",
            "**\n",
            "*\n"
          ]
        }
      ]
    }
  ]
}