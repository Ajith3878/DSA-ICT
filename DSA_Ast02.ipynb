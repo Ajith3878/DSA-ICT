{
  "nbformat": 4,
  "nbformat_minor": 0,
  "metadata": {
    "colab": {
      "provenance": []
    },
    "kernelspec": {
      "name": "python3",
      "display_name": "Python 3"
    },
    "language_info": {
      "name": "python"
    }
  },
  "cells": [
    {
      "cell_type": "markdown",
      "source": [
        "1. Write a Python program to accept a string value from the user and display\n",
        "the count of each character in that string. Sample input: Enter a string\n",
        "value: assembly Sample output: a=1, s=2, e=1, m=1, b=1, l=1, y=1"
      ],
      "metadata": {
        "id": "vq9qwt2dbQd7"
      }
    },
    {
      "cell_type": "code",
      "source": [
        "s=input('Enter sentence :')\n",
        "s1=s.replace(' ','')\n",
        "s2={}\n",
        "for i in s1:\n",
        "  if i in s2:\n",
        "    s2[i]+=1\n",
        "  else:\n",
        "    s2[i]=1\n",
        "\n",
        "print(str(s2))"
      ],
      "metadata": {
        "colab": {
          "base_uri": "https://localhost:8080/"
        },
        "id": "KKgrsxEHrhS8",
        "outputId": "4f0d2315-9399-4316-84af-6580e5c612f8"
      },
      "execution_count": null,
      "outputs": [
        {
          "output_type": "stream",
          "name": "stdout",
          "text": [
            "Enter sentence :itt iss\n",
            "{'i': 2, 't': 2, 's': 2}\n"
          ]
        }
      ]
    },
    {
      "cell_type": "markdown",
      "source": [
        "2. . Write a Python function to find the maximum of three numbers Sample\n",
        "input: 34,12,7 Sample output: 34"
      ],
      "metadata": {
        "id": "4Z5NV0i2wEsa"
      }
    },
    {
      "cell_type": "code",
      "source": [
        "def num(n1,n2,n3):\n",
        "  return n1,n2,n3\n",
        "\n",
        "numbers=num(34,12,7 )\n",
        "largest=max(numbers)\n",
        "print('Given Numbers is ',numbers)\n",
        "print('Largest Number is ',largest)"
      ],
      "metadata": {
        "colab": {
          "base_uri": "https://localhost:8080/"
        },
        "id": "3gkSJvyDwFuq",
        "outputId": "988cb1fa-c148-4b05-b193-6f778cb850c4"
      },
      "execution_count": null,
      "outputs": [
        {
          "output_type": "stream",
          "name": "stdout",
          "text": [
            "Given Numbers is  (34, 12, 7)\n",
            "Largest Number is  34\n"
          ]
        }
      ]
    },
    {
      "cell_type": "markdown",
      "source": [
        "3. Write a Python function called exponent(base,exp) that returns an\n",
        "integer value of base raises to the power of exp. Sample input: Enter the\n",
        "base: 2 Enter the exponent: 3 Sample output: 8"
      ],
      "metadata": {
        "id": "WxMnXLIlC3XO"
      }
    },
    {
      "cell_type": "code",
      "source": [
        "def exponent(base,exp):\n",
        "  return base**exp\n",
        "base=int(input('Enter Base :'))\n",
        "exp=int(input('Enter Exponent :'))\n",
        "result=exponent(base,exp)\n",
        "print('Cube is : ',result)"
      ],
      "metadata": {
        "colab": {
          "base_uri": "https://localhost:8080/"
        },
        "id": "De-cnwjVH0c1",
        "outputId": "69999ac6-7840-4ea3-e4c5-5cf3075d21d6"
      },
      "execution_count": 1,
      "outputs": [
        {
          "output_type": "stream",
          "name": "stdout",
          "text": [
            "Enter Base :2\n",
            "Enter Exponent :3\n",
            "Cube is :  8\n"
          ]
        }
      ]
    },
    {
      "cell_type": "markdown",
      "source": [
        "4. Write a Python function that takes a positive integer and returns the sum\n",
        "of the cube of all the positive integers smaller than the specified number.\n",
        "Sample input: 4 Sample output: 36."
      ],
      "metadata": {
        "id": "mr9mX5lpaRtn"
      }
    },
    {
      "cell_type": "code",
      "source": [
        "\n",
        "def SumCube(n):\n",
        "  total=0\n",
        "  for i in range(n):\n",
        "     total+=i**3\n",
        "  return total\n",
        "    #n-=0\n",
        "\n",
        "n=int(input('Enter a number :'))\n",
        "result=SumCube(n)\n",
        "print('sum of the cube of all the positive integers ',result)"
      ],
      "metadata": {
        "colab": {
          "base_uri": "https://localhost:8080/"
        },
        "id": "SqYZI5MYaPAL",
        "outputId": "0c5ce4b5-a9af-4615-d5e1-ba1b62ea2dfd"
      },
      "execution_count": 12,
      "outputs": [
        {
          "output_type": "stream",
          "name": "stdout",
          "text": [
            "Enter a number :4\n",
            "sum of the cube of all the positive integers  36\n"
          ]
        }
      ]
    },
    {
      "cell_type": "markdown",
      "source": [
        "5. Write a Python program which iterates from 1 to 10. For multiples of 2,\n",
        "print “Fizz” instead of the number and for the multiples of 5, print “Buzz”.\n",
        "For numbers which are multiples of both 2 and 5, print “FizzBuzz”.\n",
        "Sample input: numbers from 1 to 10 Sample output: 1 Fizz 3 Fizz Buzz\n",
        "Fizz 7 Fizz 9 FizzBuzz"
      ],
      "metadata": {
        "id": "LafGUw7OmSL_"
      }
    },
    {
      "cell_type": "code",
      "source": [
        "for i in range(1,11):\n",
        "  if (i%5==0 and i%2==0):\n",
        "    print(\"FizzBuzz\")\n",
        "  elif i%2==0:\n",
        "    print('Fizz')\n",
        "  elif i%5==0:\n",
        "    print('Buzz')\n",
        "  else:\n",
        "     print(i)\n"
      ],
      "metadata": {
        "colab": {
          "base_uri": "https://localhost:8080/"
        },
        "id": "ReYuT7uhmWF_",
        "outputId": "ca272d93-54ec-4dbb-bc8e-1ab1f57f02bd"
      },
      "execution_count": null,
      "outputs": [
        {
          "output_type": "stream",
          "name": "stdout",
          "text": [
            "1\n",
            "Fizz\n",
            "3\n",
            "Fizz\n",
            "Buzz\n",
            "Fizz\n",
            "7\n",
            "Fizz\n",
            "9\n",
            "FizzBuzz\n"
          ]
        }
      ]
    },
    {
      "cell_type": "markdown",
      "source": [
        "6. Write a Python program to find the most frequent item in a list of\n",
        "numbers. Sample input: 2, 3, 4, 2, 5, 2 Sample output: 2"
      ],
      "metadata": {
        "id": "3Nccg7_auUuF"
      }
    },
    {
      "cell_type": "code",
      "source": [
        "l=[2, 3, 4, 2, 5, 2]\n",
        "num=[]\n",
        "counter=0\n",
        "for i in l:\n",
        "  repeat=l.count(i)\n",
        "  if (repeat>counter):\n",
        "    counter=repeat\n",
        "    num=i\n",
        "print(num)"
      ],
      "metadata": {
        "id": "ARoDDm2TuTzu",
        "colab": {
          "base_uri": "https://localhost:8080/"
        },
        "outputId": "6e92d37b-a747-420d-9753-a6618a9f8c41"
      },
      "execution_count": 14,
      "outputs": [
        {
          "output_type": "stream",
          "name": "stdout",
          "text": [
            "2\n"
          ]
        }
      ]
    },
    {
      "cell_type": "markdown",
      "source": [
        "7. Write a Python program to find the sum of squares of the numbers in a\n",
        "list. Sample input: 2,1,3,1 Sample output: 15"
      ],
      "metadata": {
        "id": "ZEvYxs3W3OYT"
      }
    },
    {
      "cell_type": "code",
      "source": [
        "l=[2,1,3,1]\n",
        "total=0\n",
        "for i in l:\n",
        "  total+=i**2\n",
        "print(total)\n"
      ],
      "metadata": {
        "colab": {
          "base_uri": "https://localhost:8080/"
        },
        "id": "Ds3L3h9A3PyO",
        "outputId": "9a5decf2-15f8-4c71-c1ac-c45b52be0e7d"
      },
      "execution_count": null,
      "outputs": [
        {
          "output_type": "stream",
          "name": "stdout",
          "text": [
            "15\n"
          ]
        }
      ]
    },
    {
      "cell_type": "markdown",
      "source": [
        "8. Write a Python program using for loop that will iterate from 1 to 15. For\n",
        "each iteration, check if the current number is odd or even, and display the\n",
        "message to the screen as odd or even. Sample input: 1….15 Sample\n",
        "output: 1-odd 2-even …. 15-odd"
      ],
      "metadata": {
        "id": "dNMEr6bu31xk"
      }
    },
    {
      "cell_type": "code",
      "source": [
        "for i in range(1,16):\n",
        "  if i%2==0:\n",
        "    print(i,\"-even\")\n",
        "  else:\n",
        "    print(i,\"-odd\")"
      ],
      "metadata": {
        "colab": {
          "base_uri": "https://localhost:8080/"
        },
        "id": "CvqPnxWB36g8",
        "outputId": "300b617a-eed7-4415-ee3a-873968640a10"
      },
      "execution_count": 15,
      "outputs": [
        {
          "output_type": "stream",
          "name": "stdout",
          "text": [
            "1 -odd\n",
            "2 -even\n",
            "3 -odd\n",
            "4 -even\n",
            "5 -odd\n",
            "6 -even\n",
            "7 -odd\n",
            "8 -even\n",
            "9 -odd\n",
            "10 -even\n",
            "11 -odd\n",
            "12 -even\n",
            "13 -odd\n",
            "14 -even\n",
            "15 -odd\n"
          ]
        }
      ]
    },
    {
      "cell_type": "markdown",
      "source": [
        "9. Write a Python program to convert temperatures to and from Celsius\n",
        "Fahrenheit. [Formula: c/5=f-32/9 where c=temperature in Celsius and f=\n",
        "temperature in Fahrenheit.] Sample input: Temperature in Fahrenheit\n",
        "=41 Sample output: Temperature in Celsius =5\n"
      ],
      "metadata": {
        "id": "x2VqncbW4fC2"
      }
    },
    {
      "cell_type": "code",
      "source": [
        "TF=int(input('Enter Temperature in Fahrenheit :'))\n",
        "TC=(TF-32)/9*5\n",
        "print('Temperature in Celsius :',TC)"
      ],
      "metadata": {
        "colab": {
          "base_uri": "https://localhost:8080/"
        },
        "id": "vS7H-hAM4jIN",
        "outputId": "398429bf-c094-4a31-d874-ba5dbae6bf9b"
      },
      "execution_count": null,
      "outputs": [
        {
          "output_type": "stream",
          "name": "stdout",
          "text": [
            "Enter Temperature in Fahrenheit :41\n",
            "Temperature in Celsius : 5.0\n"
          ]
        }
      ]
    },
    {
      "cell_type": "markdown",
      "source": [
        "10. Write a Python function to calculate the factorial of a number (a\n",
        "nonnegative integer). The function accepts the number as an argument.\n",
        "Sample input: 3 Sample output: 6"
      ],
      "metadata": {
        "id": "d1uZySkl8mbT"
      }
    },
    {
      "cell_type": "code",
      "source": [
        "def fact(n):\n",
        "  return 1 if(n==0 or n==1) else n*fact(n-1)\n",
        "n=int(input('Enter a positive Integer :'))\n",
        "result=fact(n)\n",
        "print('Factorial of the given Number is ',result)"
      ],
      "metadata": {
        "colab": {
          "base_uri": "https://localhost:8080/"
        },
        "id": "bJt7kfQL8nkD",
        "outputId": "739ed46c-d696-44d6-b6cc-fbb19efe90d2"
      },
      "execution_count": null,
      "outputs": [
        {
          "output_type": "stream",
          "name": "stdout",
          "text": [
            "Enter a positive Integer :3\n",
            "Factorial of the given Number is  6\n"
          ]
        }
      ]
    }
  ]
}